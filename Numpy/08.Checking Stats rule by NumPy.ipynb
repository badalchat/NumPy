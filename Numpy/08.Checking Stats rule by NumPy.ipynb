{
 "cells": [
  {
   "cell_type": "markdown",
   "metadata": {},
   "source": [
    "## Checking stats rules with numpy"
   ]
  },
  {
   "cell_type": "markdown",
   "metadata": {},
   "source": [
    "#### Mean subtracted array has zero mean"
   ]
  },
  {
   "cell_type": "code",
   "execution_count": 2,
   "metadata": {},
   "outputs": [],
   "source": [
    "import numpy as np"
   ]
  },
  {
   "cell_type": "code",
   "execution_count": 3,
   "metadata": {},
   "outputs": [],
   "source": [
    "arr = np.random.rand(1000)"
   ]
  },
  {
   "cell_type": "code",
   "execution_count": 4,
   "metadata": {},
   "outputs": [],
   "source": [
    "mean = np.mean(arr)"
   ]
  },
  {
   "cell_type": "code",
   "execution_count": 5,
   "metadata": {},
   "outputs": [],
   "source": [
    "arr1 = arr - mean"
   ]
  },
  {
   "cell_type": "code",
   "execution_count": 6,
   "metadata": {},
   "outputs": [
    {
     "data": {
      "text/plain": [
       "-3.286260152890463e-17"
      ]
     },
     "execution_count": 6,
     "metadata": {},
     "output_type": "execute_result"
    }
   ],
   "source": [
    "np.mean(arr1)"
   ]
  },
  {
   "cell_type": "markdown",
   "metadata": {},
   "source": [
    "#### Computing mean with smaller set of values"
   ]
  },
  {
   "cell_type": "code",
   "execution_count": 7,
   "metadata": {},
   "outputs": [],
   "source": [
    "arr = np.random.rand(1000)"
   ]
  },
  {
   "cell_type": "code",
   "execution_count": 8,
   "metadata": {},
   "outputs": [
    {
     "name": "stdout",
     "output_type": "stream",
     "text": [
      "1 0.08542090441921824\n",
      "2 0.1527585611656233\n",
      "3 0.3035480250361063\n",
      "4 0.358321237332782\n",
      "5 0.38113796109875653\n",
      "6 0.3866445206561442\n",
      "7 0.41515177892921235\n",
      "8 0.3950984984615751\n",
      "9 0.4612713626124791\n",
      "10 0.4740204672160445\n",
      "11 0.47984235299615086\n",
      "12 0.5064207622085551\n",
      "13 0.4793162905742234\n",
      "14 0.46195411415673354\n",
      "15 0.44882468264651637\n",
      "16 0.4560273903384199\n",
      "17 0.4379373498364258\n",
      "18 0.4349164612978336\n",
      "19 0.4123822142507219\n",
      "20 0.41341005579388923\n",
      "21 0.40735117369803675\n",
      "22 0.4126789929532245\n",
      "23 0.4340173899258767\n",
      "24 0.45619632774791424\n",
      "25 0.438004567022365\n",
      "26 0.4568420886163815\n",
      "27 0.4764503303534249\n",
      "28 0.4879621943162095\n",
      "29 0.4936771333605048\n",
      "30 0.49474799569606737\n",
      "31 0.4996534331921985\n",
      "32 0.48639314951418994\n",
      "33 0.4796019433191243\n",
      "34 0.48053852324342033\n",
      "35 0.4933558609081222\n",
      "36 0.4832128501565842\n",
      "37 0.495695403341758\n",
      "38 0.4958633359986404\n",
      "39 0.49139858289947785\n",
      "40 0.48789914170824655\n",
      "41 0.4858808201427789\n",
      "42 0.47580637966494843\n",
      "43 0.4813830255932076\n",
      "44 0.49171669918345945\n",
      "45 0.49159340602710844\n",
      "46 0.49888375775621735\n",
      "47 0.4897001167131895\n",
      "48 0.4828424723935359\n",
      "49 0.48620859409454403\n"
     ]
    }
   ],
   "source": [
    "for k in range(1, 50):\n",
    "    arr1 = arr[0:k]\n",
    "    print(k, np.mean(arr1))"
   ]
  },
  {
   "cell_type": "code",
   "execution_count": 9,
   "metadata": {},
   "outputs": [],
   "source": [
    "np.cumsum?"
   ]
  },
  {
   "cell_type": "code",
   "execution_count": 10,
   "metadata": {},
   "outputs": [],
   "source": [
    "cumsum = np.cumsum(arr)"
   ]
  },
  {
   "cell_type": "code",
   "execution_count": 11,
   "metadata": {},
   "outputs": [],
   "source": [
    "means = np.cumsum(arr)/np.arange(1, 1001)"
   ]
  },
  {
   "cell_type": "code",
   "execution_count": 12,
   "metadata": {
    "scrolled": true
   },
   "outputs": [
    {
     "data": {
      "text/plain": [
       "array([0.0854209 , 0.15275856, 0.30354803, 0.35832124, 0.38113796,\n",
       "       0.38664452, 0.41515178, 0.3950985 , 0.46127136, 0.47402047,\n",
       "       0.47984235, 0.50642076, 0.47931629, 0.46195411, 0.44882468])"
      ]
     },
     "execution_count": 12,
     "metadata": {},
     "output_type": "execute_result"
    }
   ],
   "source": [
    "means[0:15]"
   ]
  },
  {
   "cell_type": "markdown",
   "metadata": {},
   "source": [
    "#### Effect of outliers on mean and median"
   ]
  },
  {
   "cell_type": "code",
   "execution_count": 13,
   "metadata": {},
   "outputs": [],
   "source": [
    "arr = np.random.randint(1, 100, 100)"
   ]
  },
  {
   "cell_type": "code",
   "execution_count": 14,
   "metadata": {},
   "outputs": [
    {
     "data": {
      "text/plain": [
       "47.98"
      ]
     },
     "execution_count": 14,
     "metadata": {},
     "output_type": "execute_result"
    }
   ],
   "source": [
    "np.mean(arr)"
   ]
  },
  {
   "cell_type": "code",
   "execution_count": 15,
   "metadata": {},
   "outputs": [
    {
     "data": {
      "text/plain": [
       "45.5"
      ]
     },
     "execution_count": 15,
     "metadata": {},
     "output_type": "execute_result"
    }
   ],
   "source": [
    "np.median(arr)"
   ]
  },
  {
   "cell_type": "code",
   "execution_count": 16,
   "metadata": {},
   "outputs": [],
   "source": [
    "arr = np.append(arr, [1000, 2000])"
   ]
  },
  {
   "cell_type": "code",
   "execution_count": 17,
   "metadata": {},
   "outputs": [
    {
     "data": {
      "text/plain": [
       "(102,)"
      ]
     },
     "execution_count": 17,
     "metadata": {},
     "output_type": "execute_result"
    }
   ],
   "source": [
    "arr.shape"
   ]
  },
  {
   "cell_type": "code",
   "execution_count": 18,
   "metadata": {},
   "outputs": [
    {
     "data": {
      "text/plain": [
       "76.45098039215686"
      ]
     },
     "execution_count": 18,
     "metadata": {},
     "output_type": "execute_result"
    }
   ],
   "source": [
    "np.mean(arr)"
   ]
  },
  {
   "cell_type": "code",
   "execution_count": 19,
   "metadata": {},
   "outputs": [
    {
     "data": {
      "text/plain": [
       "47.0"
      ]
     },
     "execution_count": 19,
     "metadata": {},
     "output_type": "execute_result"
    }
   ],
   "source": [
    "np.median(arr)"
   ]
  },
  {
   "cell_type": "markdown",
   "metadata": {},
   "source": [
    "#### Effect of scaling arrays on mean and median"
   ]
  },
  {
   "cell_type": "code",
   "execution_count": null,
   "metadata": {},
   "outputs": [],
   "source": [
    "arr = np.random.rand(100)"
   ]
  },
  {
   "cell_type": "code",
   "execution_count": null,
   "metadata": {},
   "outputs": [],
   "source": [
    "np.mean(arr)"
   ]
  },
  {
   "cell_type": "code",
   "execution_count": null,
   "metadata": {},
   "outputs": [],
   "source": [
    "np.median(arr)"
   ]
  },
  {
   "cell_type": "code",
   "execution_count": null,
   "metadata": {},
   "outputs": [],
   "source": [
    "arr1 = 2.5 * arr + 0.65"
   ]
  },
  {
   "cell_type": "code",
   "execution_count": null,
   "metadata": {},
   "outputs": [],
   "source": [
    "print(np.mean(arr1), 2.5*np.mean(arr)+ 0.65)"
   ]
  },
  {
   "cell_type": "code",
   "execution_count": null,
   "metadata": {},
   "outputs": [],
   "source": [
    "print(np.mean(2.5 * arr + 0.65), 2.5*np.mean(arr)+ 0.65)"
   ]
  },
  {
   "cell_type": "code",
   "execution_count": null,
   "metadata": {},
   "outputs": [],
   "source": [
    "print(np.median(2.5 * arr + 0.65), 2.5*np.median(arr)+ 0.65)"
   ]
  },
  {
   "cell_type": "code",
   "execution_count": null,
   "metadata": {},
   "outputs": [],
   "source": [
    "\n",
    "\n",
    "\n",
    "\n",
    "\n",
    "print(np.std(2.5 * arr +0.65), 2.5 *np.std(arr))\n",
    "\n",
    "arr1 = np.random.rand(100)\n",
    "arr2 = np.random.rand(100)\n",
    "\n",
    "print(np.mean(0.21 * arr1 - 0.75 * arr2), 0.21*np.mean(arr1)-0.75 * np.mean(arr2))"
   ]
  }
 ],
 "metadata": {
  "kernelspec": {
   "display_name": "Python 3",
   "language": "python",
   "name": "python3"
  },
  "language_info": {
   "codemirror_mode": {
    "name": "ipython",
    "version": 3
   },
   "file_extension": ".py",
   "mimetype": "text/x-python",
   "name": "python",
   "nbconvert_exporter": "python",
   "pygments_lexer": "ipython3",
   "version": "3.7.6"
  }
 },
 "nbformat": 4,
 "nbformat_minor": 2
}
