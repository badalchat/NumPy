{
 "cells": [
  {
   "cell_type": "markdown",
   "metadata": {},
   "source": [
    "## CaseStudy & Problems"
   ]
  },
  {
   "cell_type": "code",
   "execution_count": 1,
   "metadata": {},
   "outputs": [],
   "source": [
    "import numpy as np"
   ]
  },
  {
   "cell_type": "code",
   "execution_count": 2,
   "metadata": {},
   "outputs": [
    {
     "name": "stderr",
     "output_type": "stream",
     "text": [
      "'head' is not recognized as an internal or external command,\n",
      "operable program or batch file.\n"
     ]
    }
   ],
   "source": [
    "!head cric_data.tsv"
   ]
  },
  {
   "cell_type": "markdown",
   "metadata": {},
   "source": [
    "1. Find mean, median, IQR for Sachin , Rahul and India\n",
    "2. Find the histogram of Scahin's scores with 10 bins\n",
    "3. Find mean of Schin's scores grouped by 25 matches\n",
    "4. Find mean for Sachin's scores where he has score a century\n",
    "5. Find mean of Sachin's scores when Rahul has scored less than 10\n",
    "6. Find mean for Sachin's scores based on which quartile India's score falls in\n",
    "7. For every match find out who has has scored more - Sachin or Rahul\n",
    "8.  How many more runs does Sachin score on average after having scored x runs\n",
    "9. How many matches did Sachin take to score first 1000 runs, next 1000 runs,...."
   ]
  },
  {
   "cell_type": "code",
   "execution_count": 3,
   "metadata": {},
   "outputs": [],
   "source": [
    "# cric_data = np.loadtxt('cric_data.tsv')"
   ]
  },
  {
   "cell_type": "code",
   "execution_count": 4,
   "metadata": {},
   "outputs": [],
   "source": [
    "cric_data = np.loadtxt('cric_data.tsv', skiprows=1)"
   ]
  },
  {
   "cell_type": "code",
   "execution_count": 5,
   "metadata": {},
   "outputs": [
    {
     "data": {
      "text/plain": [
       "(225, 4)"
      ]
     },
     "execution_count": 5,
     "metadata": {},
     "output_type": "execute_result"
    }
   ],
   "source": [
    "cric_data.shape"
   ]
  },
  {
   "cell_type": "code",
   "execution_count": 6,
   "metadata": {},
   "outputs": [],
   "source": [
    "cric_data=cric_data[:, [1, 2, 3]]"
   ]
  },
  {
   "cell_type": "code",
   "execution_count": 7,
   "metadata": {},
   "outputs": [
    {
     "data": {
      "text/plain": [
       "(225, 3)"
      ]
     },
     "execution_count": 7,
     "metadata": {},
     "output_type": "execute_result"
    }
   ],
   "source": [
    "cric_data.shape"
   ]
  },
  {
   "cell_type": "code",
   "execution_count": 8,
   "metadata": {},
   "outputs": [],
   "source": [
    "sachin = cric_data[:, 0] "
   ]
  },
  {
   "cell_type": "code",
   "execution_count": 9,
   "metadata": {},
   "outputs": [],
   "source": [
    "rahul = cric_data[:, 1]"
   ]
  },
  {
   "cell_type": "code",
   "execution_count": 10,
   "metadata": {},
   "outputs": [],
   "source": [
    "india = cric_data[:, 2]"
   ]
  },
  {
   "cell_type": "markdown",
   "metadata": {},
   "source": [
    "**1. Find mean, median, IQR for Sachin , Rahul and India**"
   ]
  },
  {
   "cell_type": "code",
   "execution_count": 11,
   "metadata": {},
   "outputs": [],
   "source": [
    "def stats(cols):\n",
    "    print(\"mean : \",np.mean(cols))\n",
    "    print(\"median : \", np.median(cols))\n",
    "    print(\"IQR : \",np.percentile(cols, 75)-np.percentile(cols, 25))"
   ]
  },
  {
   "cell_type": "code",
   "execution_count": 12,
   "metadata": {},
   "outputs": [
    {
     "name": "stdout",
     "output_type": "stream",
     "text": [
      "mean :  39.87555555555556\n",
      "median :  27.0\n",
      "IQR :  57.0\n"
     ]
    }
   ],
   "source": [
    "stats(sachin)"
   ]
  },
  {
   "cell_type": "code",
   "execution_count": 13,
   "metadata": {},
   "outputs": [
    {
     "name": "stdout",
     "output_type": "stream",
     "text": [
      "mean :  32.062222222222225\n",
      "median :  22.0\n",
      "IQR :  46.0\n"
     ]
    }
   ],
   "source": [
    "stats(rahul)"
   ]
  },
  {
   "cell_type": "code",
   "execution_count": 14,
   "metadata": {},
   "outputs": [
    {
     "name": "stdout",
     "output_type": "stream",
     "text": [
      "mean :  220.79555555555555\n",
      "median :  216.0\n",
      "IQR :  98.0\n"
     ]
    }
   ],
   "source": [
    "stats(india)"
   ]
  },
  {
   "cell_type": "code",
   "execution_count": 15,
   "metadata": {},
   "outputs": [
    {
     "data": {
      "text/plain": [
       "array([ 39.87555556,  32.06222222, 220.79555556])"
      ]
     },
     "execution_count": 15,
     "metadata": {},
     "output_type": "execute_result"
    }
   ],
   "source": [
    "np.mean(cric_data, axis = 0)"
   ]
  },
  {
   "cell_type": "code",
   "execution_count": 16,
   "metadata": {},
   "outputs": [
    {
     "data": {
      "text/plain": [
       "array([ 27.,  22., 216.])"
      ]
     },
     "execution_count": 16,
     "metadata": {},
     "output_type": "execute_result"
    }
   ],
   "source": [
    "np.median(cric_data, axis = 0)"
   ]
  },
  {
   "cell_type": "code",
   "execution_count": 17,
   "metadata": {},
   "outputs": [
    {
     "data": {
      "text/plain": [
       "array([57., 46., 98.])"
      ]
     },
     "execution_count": 17,
     "metadata": {},
     "output_type": "execute_result"
    }
   ],
   "source": [
    "np.percentile(cric_data, 75, axis = 0) - np.percentile(cric_data, 25, axis = 0)"
   ]
  },
  {
   "cell_type": "markdown",
   "metadata": {},
   "source": [
    "**2.Find the histogram of Scahin's scores with 10 bins**"
   ]
  },
  {
   "cell_type": "code",
   "execution_count": 18,
   "metadata": {
    "scrolled": true
   },
   "outputs": [
    {
     "data": {
      "text/plain": [
       "(array([99, 36, 28, 16, 11, 17,  8,  8,  1,  1], dtype=int64),\n",
       " array([  0. ,  18.6,  37.2,  55.8,  74.4,  93. , 111.6, 130.2, 148.8,\n",
       "        167.4, 186. ]))"
      ]
     },
     "execution_count": 18,
     "metadata": {},
     "output_type": "execute_result"
    }
   ],
   "source": [
    "np.histogram(sachin, bins=10)"
   ]
  },
  {
   "cell_type": "markdown",
   "metadata": {},
   "source": [
    "**3.Find mean of Schin's scores grouped by 25 matches**"
   ]
  },
  {
   "cell_type": "code",
   "execution_count": 19,
   "metadata": {},
   "outputs": [
    {
     "data": {
      "text/plain": [
       "(225,)"
      ]
     },
     "execution_count": 19,
     "metadata": {},
     "output_type": "execute_result"
    }
   ],
   "source": [
    "sachin.shape"
   ]
  },
  {
   "cell_type": "code",
   "execution_count": 20,
   "metadata": {},
   "outputs": [
    {
     "data": {
      "text/plain": [
       "(9, 25)"
      ]
     },
     "execution_count": 20,
     "metadata": {},
     "output_type": "execute_result"
    }
   ],
   "source": [
    "sachin.reshape(9, 25).shape"
   ]
  },
  {
   "cell_type": "code",
   "execution_count": 21,
   "metadata": {},
   "outputs": [],
   "source": [
    "sachin_by_25s = sachin.reshape(9, 25)"
   ]
  },
  {
   "cell_type": "code",
   "execution_count": 22,
   "metadata": {},
   "outputs": [
    {
     "data": {
      "text/plain": [
       "array([33.96, 49.4 , 38.48, 40.16, 39.36, 38.2 , 44.6 , 39.52, 35.2 ])"
      ]
     },
     "execution_count": 22,
     "metadata": {},
     "output_type": "execute_result"
    }
   ],
   "source": [
    "np.mean(sachin_by_25s, axis=1)"
   ]
  },
  {
   "cell_type": "markdown",
   "metadata": {},
   "source": [
    "**4.Find mean for Sachin's scores where he has score a century**"
   ]
  },
  {
   "cell_type": "code",
   "execution_count": 23,
   "metadata": {},
   "outputs": [
    {
     "data": {
      "text/plain": [
       "array([ True, False, False, False,  True, False, False, False, False,\n",
       "       False, False, False, False, False, False, False, False, False,\n",
       "       False, False, False, False,  True, False, False, False, False,\n",
       "       False, False, False,  True, False, False, False, False, False,\n",
       "       False,  True, False, False, False, False, False, False,  True,\n",
       "       False, False,  True, False, False, False, False, False, False,\n",
       "       False, False,  True,  True, False, False, False, False, False,\n",
       "       False,  True, False, False, False,  True, False, False, False,\n",
       "       False, False, False, False, False, False, False, False, False,\n",
       "       False, False, False, False, False, False, False, False, False,\n",
       "       False, False, False, False,  True, False, False, False, False,\n",
       "       False, False, False, False, False, False, False, False, False,\n",
       "       False, False, False, False, False, False, False,  True,  True,\n",
       "       False, False, False, False, False, False, False, False, False,\n",
       "       False, False, False, False, False, False, False, False,  True,\n",
       "       False, False, False, False, False, False, False, False, False,\n",
       "       False, False, False, False,  True, False, False, False, False,\n",
       "       False, False, False, False, False, False,  True, False, False,\n",
       "       False, False, False, False,  True, False, False, False, False,\n",
       "       False, False, False, False,  True, False,  True, False, False,\n",
       "       False,  True,  True, False, False, False, False, False, False,\n",
       "       False, False, False, False, False, False, False, False, False,\n",
       "       False, False, False, False, False, False,  True, False, False,\n",
       "       False,  True, False,  True, False, False, False, False, False,\n",
       "       False, False, False, False, False,  True, False, False, False])"
      ]
     },
     "execution_count": 23,
     "metadata": {},
     "output_type": "execute_result"
    }
   ],
   "source": [
    "sachin >= 100"
   ]
  },
  {
   "cell_type": "code",
   "execution_count": 24,
   "metadata": {},
   "outputs": [
    {
     "data": {
      "text/plain": [
       "array([100., 104., 138., 141., 186., 146., 141., 123., 120., 122., 100.,\n",
       "       152., 105., 122., 100., 117., 141., 139., 114., 127., 110., 146.,\n",
       "       101., 140., 113., 102.])"
      ]
     },
     "execution_count": 24,
     "metadata": {},
     "output_type": "execute_result"
    }
   ],
   "source": [
    "sachin[sachin >= 100]"
   ]
  },
  {
   "cell_type": "code",
   "execution_count": 25,
   "metadata": {},
   "outputs": [
    {
     "data": {
      "text/plain": [
       "125.0"
      ]
     },
     "execution_count": 25,
     "metadata": {},
     "output_type": "execute_result"
    }
   ],
   "source": [
    "np.mean(sachin[sachin >= 100])"
   ]
  },
  {
   "cell_type": "markdown",
   "metadata": {},
   "source": [
    "**5.Find mean of Sachin's scores when Rahul has scored less than 10**"
   ]
  },
  {
   "cell_type": "code",
   "execution_count": 26,
   "metadata": {},
   "outputs": [
    {
     "data": {
      "text/plain": [
       "array([False, False, False, False, False, False, False, False, False,\n",
       "       False, False, False, False,  True,  True, False,  True,  True,\n",
       "       False, False,  True, False, False,  True, False, False,  True,\n",
       "        True, False,  True, False,  True, False, False, False, False,\n",
       "       False, False, False,  True,  True,  True,  True, False, False,\n",
       "       False, False, False, False,  True, False, False, False, False,\n",
       "        True, False, False, False, False, False, False, False,  True,\n",
       "        True, False,  True,  True, False,  True, False, False,  True,\n",
       "       False, False, False, False, False, False, False,  True,  True,\n",
       "       False, False,  True, False,  True, False, False, False, False,\n",
       "        True,  True,  True, False,  True, False, False, False, False,\n",
       "       False,  True, False, False, False, False, False, False,  True,\n",
       "        True, False,  True,  True, False,  True, False, False,  True,\n",
       "        True, False, False, False, False,  True, False, False, False,\n",
       "        True, False, False,  True,  True, False,  True, False,  True,\n",
       "        True,  True,  True, False,  True, False, False, False, False,\n",
       "       False, False, False, False, False, False,  True,  True,  True,\n",
       "        True, False, False, False, False, False, False, False, False,\n",
       "       False, False, False,  True, False, False, False,  True,  True,\n",
       "       False,  True,  True,  True, False, False, False,  True, False,\n",
       "        True,  True,  True,  True, False, False, False,  True, False,\n",
       "       False, False, False,  True, False, False, False, False, False,\n",
       "       False, False, False,  True,  True, False, False, False, False,\n",
       "       False, False, False, False, False, False, False, False,  True,\n",
       "        True, False, False, False, False, False, False,  True,  True])"
      ]
     },
     "execution_count": 26,
     "metadata": {},
     "output_type": "execute_result"
    }
   ],
   "source": [
    "rahul <= 10"
   ]
  },
  {
   "cell_type": "code",
   "execution_count": 27,
   "metadata": {},
   "outputs": [
    {
     "data": {
      "text/plain": [
       "array([ 37.,  14.,   4.,   0.,  62.,  38.,  65.,   0.,  48.,  62.,  27.,\n",
       "        27.,  51.,  18.,  65.,  28.,   2.,  54.,   4.,  14., 100.,  57.,\n",
       "         0.,   5.,   0.,  30.,  83.,  93.,   0., 152.,   0.,   1.,  53.,\n",
       "         0.,  81.,  78., 122.,   9.,  13.,  36.,  29.,  12.,  34., 100.,\n",
       "        44.,  82.,   0.,   6.,  49.,  64.,  43.,  72.,   3.,  44.,  47.,\n",
       "        17.,  35.,  88.,   0.,  33., 110., 146.,   7.,  11.,  94.,  55.,\n",
       "         0.,  28.,   2.,  27.,  40.])"
      ]
     },
     "execution_count": 27,
     "metadata": {},
     "output_type": "execute_result"
    }
   ],
   "source": [
    "sachin[rahul <= 10]"
   ]
  },
  {
   "cell_type": "code",
   "execution_count": 28,
   "metadata": {},
   "outputs": [
    {
     "data": {
      "text/plain": [
       "40.2112676056338"
      ]
     },
     "execution_count": 28,
     "metadata": {},
     "output_type": "execute_result"
    }
   ],
   "source": [
    "np.mean(sachin[rahul <= 10])"
   ]
  },
  {
   "cell_type": "markdown",
   "metadata": {},
   "source": [
    "**6.Find mean for Sachin's scores based on which quartile India's score falls in**"
   ]
  },
  {
   "cell_type": "code",
   "execution_count": 29,
   "metadata": {},
   "outputs": [],
   "source": [
    "qrs = np.percentile(india, [25,50,75,100])"
   ]
  },
  {
   "cell_type": "markdown",
   "metadata": {},
   "source": [
    "If India <=175: Sachin's average is ...\n",
    "\n",
    "If India <=216: Sachin's average is ...\n",
    "\n",
    "If India <=273: Sachin's average is ...\n",
    "\n",
    "If India <=499: Sachin's average is ..."
   ]
  },
  {
   "cell_type": "code",
   "execution_count": 30,
   "metadata": {},
   "outputs": [],
   "source": [
    "# india < qrs"
   ]
  },
  {
   "cell_type": "code",
   "execution_count": 31,
   "metadata": {},
   "outputs": [
    {
     "data": {
      "text/plain": [
       "(225,)"
      ]
     },
     "execution_count": 31,
     "metadata": {},
     "output_type": "execute_result"
    }
   ],
   "source": [
    "india.shape"
   ]
  },
  {
   "cell_type": "code",
   "execution_count": 32,
   "metadata": {},
   "outputs": [
    {
     "data": {
      "text/plain": [
       "(4,)"
      ]
     },
     "execution_count": 32,
     "metadata": {},
     "output_type": "execute_result"
    }
   ],
   "source": [
    "qrs.shape"
   ]
  },
  {
   "cell_type": "code",
   "execution_count": 33,
   "metadata": {},
   "outputs": [],
   "source": [
    "qrs = qrs.reshape(4,1)"
   ]
  },
  {
   "cell_type": "code",
   "execution_count": 34,
   "metadata": {},
   "outputs": [
    {
     "data": {
      "text/plain": [
       "array([[False, False, False, False, False, False, False, False, False,\n",
       "        False,  True, False, False, False,  True, False, False,  True,\n",
       "        False, False,  True, False, False, False, False,  True,  True,\n",
       "         True,  True,  True, False, False, False, False, False, False,\n",
       "         True, False,  True, False, False, False, False, False, False,\n",
       "        False, False, False, False,  True,  True, False, False, False,\n",
       "         True, False, False, False, False,  True, False, False, False,\n",
       "        False, False,  True, False, False, False,  True, False, False,\n",
       "        False, False, False, False, False, False,  True, False,  True,\n",
       "         True, False, False, False, False, False,  True, False, False,\n",
       "        False, False,  True, False, False, False, False, False, False,\n",
       "        False,  True,  True,  True, False, False, False, False, False,\n",
       "        False, False,  True,  True, False, False, False, False, False,\n",
       "        False, False, False, False, False,  True, False, False,  True,\n",
       "         True, False, False, False,  True,  True, False, False, False,\n",
       "        False, False,  True, False,  True, False, False, False, False,\n",
       "         True, False, False, False, False, False, False, False, False,\n",
       "        False, False, False,  True, False, False, False, False,  True,\n",
       "        False, False, False,  True, False, False, False, False,  True,\n",
       "        False,  True,  True, False, False, False, False, False, False,\n",
       "         True, False, False,  True, False,  True,  True,  True,  True,\n",
       "        False,  True, False, False, False, False, False, False, False,\n",
       "        False,  True, False, False,  True, False, False, False, False,\n",
       "        False, False,  True, False, False, False, False,  True, False,\n",
       "         True, False, False, False,  True, False,  True, False, False],\n",
       "       [False,  True, False, False, False, False, False, False, False,\n",
       "        False,  True, False, False, False,  True, False,  True,  True,\n",
       "         True, False,  True, False, False, False,  True,  True,  True,\n",
       "         True,  True,  True, False, False, False, False, False, False,\n",
       "         True, False,  True, False, False, False, False, False, False,\n",
       "         True, False, False, False,  True,  True,  True, False,  True,\n",
       "         True,  True, False, False,  True,  True, False, False,  True,\n",
       "        False, False,  True, False, False,  True,  True, False, False,\n",
       "        False, False, False, False, False,  True,  True,  True,  True,\n",
       "         True,  True,  True, False,  True,  True,  True, False, False,\n",
       "        False, False,  True,  True, False, False, False,  True,  True,\n",
       "        False,  True,  True,  True, False, False, False,  True, False,\n",
       "        False, False,  True,  True, False,  True,  True, False, False,\n",
       "        False, False,  True, False, False,  True, False,  True,  True,\n",
       "         True, False,  True, False,  True,  True,  True,  True, False,\n",
       "        False,  True,  True, False,  True, False,  True,  True, False,\n",
       "         True, False,  True, False,  True, False,  True,  True, False,\n",
       "        False,  True,  True,  True, False, False, False, False,  True,\n",
       "        False, False,  True,  True, False, False, False, False,  True,\n",
       "        False,  True,  True,  True, False, False,  True,  True,  True,\n",
       "         True,  True, False,  True,  True,  True,  True,  True,  True,\n",
       "        False,  True,  True, False, False, False, False, False,  True,\n",
       "         True,  True, False,  True,  True,  True,  True, False, False,\n",
       "        False, False,  True, False, False,  True,  True,  True,  True,\n",
       "         True,  True, False, False,  True, False,  True,  True,  True],\n",
       "       [False,  True,  True, False,  True,  True,  True, False,  True,\n",
       "         True,  True, False, False, False,  True,  True,  True,  True,\n",
       "         True,  True,  True,  True, False,  True,  True,  True,  True,\n",
       "         True,  True,  True, False,  True,  True,  True,  True, False,\n",
       "         True, False,  True, False, False,  True, False, False,  True,\n",
       "         True,  True, False,  True,  True,  True,  True, False,  True,\n",
       "         True,  True, False, False,  True,  True,  True, False,  True,\n",
       "         True,  True,  True, False,  True,  True,  True,  True, False,\n",
       "         True,  True,  True,  True,  True,  True,  True,  True,  True,\n",
       "         True,  True,  True,  True,  True,  True,  True, False,  True,\n",
       "        False,  True,  True,  True, False,  True, False,  True,  True,\n",
       "        False,  True,  True,  True,  True, False, False,  True,  True,\n",
       "         True, False,  True,  True,  True,  True,  True, False,  True,\n",
       "        False,  True,  True, False,  True,  True, False,  True,  True,\n",
       "         True,  True,  True,  True,  True,  True,  True,  True,  True,\n",
       "        False,  True,  True, False,  True,  True,  True,  True, False,\n",
       "         True, False,  True,  True,  True, False,  True,  True,  True,\n",
       "        False,  True,  True,  True,  True,  True, False,  True,  True,\n",
       "         True, False,  True,  True, False, False, False,  True,  True,\n",
       "         True,  True,  True,  True,  True, False,  True,  True,  True,\n",
       "         True,  True, False,  True,  True,  True,  True,  True,  True,\n",
       "         True,  True,  True, False, False, False, False, False,  True,\n",
       "         True,  True, False,  True,  True,  True,  True, False,  True,\n",
       "         True, False,  True, False, False,  True,  True,  True,  True,\n",
       "         True,  True,  True, False,  True, False,  True,  True,  True],\n",
       "       [ True,  True,  True,  True,  True,  True,  True,  True,  True,\n",
       "         True,  True,  True,  True,  True,  True,  True,  True,  True,\n",
       "         True,  True,  True,  True,  True,  True,  True,  True,  True,\n",
       "         True,  True,  True,  True,  True,  True,  True,  True,  True,\n",
       "         True,  True,  True,  True,  True,  True,  True,  True,  True,\n",
       "         True,  True,  True,  True,  True,  True,  True,  True,  True,\n",
       "         True,  True,  True,  True,  True,  True,  True,  True,  True,\n",
       "         True,  True,  True,  True,  True,  True,  True,  True, False,\n",
       "         True,  True,  True,  True,  True,  True,  True,  True,  True,\n",
       "         True,  True,  True,  True,  True,  True,  True,  True,  True,\n",
       "         True,  True,  True,  True,  True,  True,  True,  True,  True,\n",
       "         True,  True,  True,  True,  True,  True,  True,  True,  True,\n",
       "         True,  True,  True,  True,  True,  True,  True,  True,  True,\n",
       "         True,  True,  True,  True,  True,  True,  True,  True,  True,\n",
       "         True,  True,  True,  True,  True,  True,  True,  True,  True,\n",
       "         True,  True,  True,  True,  True,  True,  True,  True,  True,\n",
       "         True,  True,  True,  True,  True,  True,  True,  True,  True,\n",
       "         True,  True,  True,  True,  True,  True,  True,  True,  True,\n",
       "         True,  True,  True,  True,  True,  True,  True,  True,  True,\n",
       "         True,  True,  True,  True,  True,  True,  True,  True,  True,\n",
       "         True,  True,  True,  True,  True,  True,  True,  True,  True,\n",
       "         True,  True,  True,  True,  True,  True,  True,  True,  True,\n",
       "         True,  True,  True,  True,  True,  True,  True,  True,  True,\n",
       "         True,  True,  True,  True,  True,  True,  True,  True,  True,\n",
       "         True,  True,  True,  True,  True,  True,  True,  True,  True]])"
      ]
     },
     "execution_count": 34,
     "metadata": {},
     "output_type": "execute_result"
    }
   ],
   "source": [
    "india < qrs"
   ]
  },
  {
   "cell_type": "code",
   "execution_count": 35,
   "metadata": {},
   "outputs": [],
   "source": [
    "indices = india < qrs"
   ]
  },
  {
   "cell_type": "code",
   "execution_count": 36,
   "metadata": {},
   "outputs": [
    {
     "data": {
      "text/plain": [
       "(4, 225)"
      ]
     },
     "execution_count": 36,
     "metadata": {},
     "output_type": "execute_result"
    }
   ],
   "source": [
    "indices.shape"
   ]
  },
  {
   "cell_type": "code",
   "execution_count": 37,
   "metadata": {},
   "outputs": [
    {
     "data": {
      "text/plain": [
       "array([18., 14.,  0., 62., 46., 65.,  0., 39., 48.,  3., 11., 65., 27.,\n",
       "       28.,  3.,  4., 15., 40.,  5.,  8., 89.,  0.,  0.,  1.,  0.,  0.,\n",
       "       81., 13.,  2., 36., 12., 19.,  0.,  6., 35.,  0., 44.,  3., 47.,\n",
       "       17., 35., 33.,  7.,  9.,  2., 11., 17.,  1., 10.,  0., 23.,  1.,\n",
       "        2., 25.,  0.])"
      ]
     },
     "execution_count": 37,
     "metadata": {},
     "output_type": "execute_result"
    }
   ],
   "source": [
    "sachin[indices[0, :]]"
   ]
  },
  {
   "cell_type": "code",
   "execution_count": 38,
   "metadata": {},
   "outputs": [
    {
     "name": "stdout",
     "output_type": "stream",
     "text": [
      "0 19.672727272727272\n",
      "1 28.18018018018018\n",
      "2 31.688622754491018\n",
      "3 39.799107142857146\n"
     ]
    }
   ],
   "source": [
    "for i in range(4):\n",
    "    print(i, np.mean(sachin[indices[i]]))"
   ]
  },
  {
   "cell_type": "markdown",
   "metadata": {},
   "source": [
    "**7.For every match find out who has has scored more - Sachin or Rahul**"
   ]
  },
  {
   "cell_type": "code",
   "execution_count": 39,
   "metadata": {},
   "outputs": [],
   "source": [
    "snr = cric_data[:, 0:2]"
   ]
  },
  {
   "cell_type": "code",
   "execution_count": 40,
   "metadata": {},
   "outputs": [
    {
     "data": {
      "text/plain": [
       "5"
      ]
     },
     "execution_count": 40,
     "metadata": {},
     "output_type": "execute_result"
    }
   ],
   "source": [
    "np.max([1,3,2,5,1])"
   ]
  },
  {
   "cell_type": "code",
   "execution_count": 41,
   "metadata": {},
   "outputs": [
    {
     "data": {
      "text/plain": [
       "3"
      ]
     },
     "execution_count": 41,
     "metadata": {},
     "output_type": "execute_result"
    }
   ],
   "source": [
    "np.argmax([1,3,2,5,1])   #largest no position find"
   ]
  },
  {
   "cell_type": "code",
   "execution_count": 42,
   "metadata": {},
   "outputs": [
    {
     "data": {
      "text/plain": [
       "array([0, 1, 1, 0, 0, 1, 1, 0, 1, 0, 1, 1, 1, 0, 0, 1, 1, 0, 1, 1, 0, 1,\n",
       "       0, 0, 1, 0, 0, 0, 0, 0, 0, 0, 1, 1, 0, 1, 1, 0, 1, 0, 0, 0, 0, 1,\n",
       "       0, 1, 1, 0, 1, 0, 1, 1, 1, 1, 0, 1, 0, 0, 1, 1, 1, 0, 1, 0, 0, 0,\n",
       "       0, 1, 0, 1, 1, 0, 0, 1, 1, 0, 1, 1, 0, 1, 1, 1, 1, 1, 1, 0, 0, 0,\n",
       "       1, 0, 0, 0, 0, 0, 0, 1, 1, 0, 1, 0, 0, 1, 1, 1, 1, 0, 1, 1, 0, 0,\n",
       "       0, 0, 1, 0, 1, 0, 0, 0, 1, 0, 1, 0, 0, 0, 0, 1, 0, 1, 1, 0, 0, 1,\n",
       "       0, 1, 0, 0, 0, 0, 0, 0, 1, 1, 1, 0, 0, 0, 0, 1, 0, 1, 0, 0, 0, 0,\n",
       "       1, 1, 1, 0, 1, 0, 1, 0, 1, 0, 0, 1, 0, 1, 1, 0, 0, 1, 0, 0, 0, 0,\n",
       "       1, 0, 1, 1, 0, 0, 0, 0, 1, 1, 1, 0, 1, 1, 1, 1, 0, 1, 1, 0, 1, 1,\n",
       "       0, 1, 0, 0, 0, 1, 0, 1, 1, 1, 0, 0, 0, 1, 1, 0, 1, 0, 1, 1, 1, 1,\n",
       "       0, 0, 1, 0, 0], dtype=int64)"
      ]
     },
     "execution_count": 42,
     "metadata": {},
     "output_type": "execute_result"
    }
   ],
   "source": [
    "np.argmax(snr, axis=1)"
   ]
  },
  {
   "cell_type": "code",
   "execution_count": 43,
   "metadata": {},
   "outputs": [],
   "source": [
    "is_rahul_higher = np.argmax(snr, axis=1)"
   ]
  },
  {
   "cell_type": "code",
   "execution_count": 44,
   "metadata": {},
   "outputs": [
    {
     "data": {
      "text/plain": [
       "0.4711111111111111"
      ]
     },
     "execution_count": 44,
     "metadata": {},
     "output_type": "execute_result"
    }
   ],
   "source": [
    "np.sum(is_rahul_higher) / 225"
   ]
  },
  {
   "cell_type": "code",
   "execution_count": 45,
   "metadata": {},
   "outputs": [
    {
     "data": {
      "text/plain": [
       "array(['Rahul', 'Sachin', 'Sachin', 'Rahul', 'Rahul', 'Sachin', 'Sachin',\n",
       "       'Rahul', 'Sachin', 'Rahul', 'Sachin', 'Sachin', 'Sachin', 'Rahul',\n",
       "       'Rahul', 'Sachin', 'Sachin', 'Rahul', 'Sachin', 'Sachin', 'Rahul',\n",
       "       'Sachin', 'Rahul', 'Rahul', 'Sachin', 'Rahul', 'Rahul', 'Rahul',\n",
       "       'Rahul', 'Rahul', 'Rahul', 'Rahul', 'Sachin', 'Sachin', 'Rahul',\n",
       "       'Sachin', 'Sachin', 'Rahul', 'Sachin', 'Rahul', 'Rahul', 'Rahul',\n",
       "       'Rahul', 'Sachin', 'Rahul', 'Sachin', 'Sachin', 'Rahul', 'Sachin',\n",
       "       'Rahul', 'Sachin', 'Sachin', 'Sachin', 'Sachin', 'Rahul', 'Sachin',\n",
       "       'Rahul', 'Rahul', 'Sachin', 'Sachin', 'Sachin', 'Rahul', 'Sachin',\n",
       "       'Rahul', 'Rahul', 'Rahul', 'Rahul', 'Sachin', 'Rahul', 'Sachin',\n",
       "       'Sachin', 'Rahul', 'Rahul', 'Sachin', 'Sachin', 'Rahul', 'Sachin',\n",
       "       'Sachin', 'Rahul', 'Sachin', 'Sachin', 'Sachin', 'Sachin',\n",
       "       'Sachin', 'Sachin', 'Rahul', 'Rahul', 'Rahul', 'Sachin', 'Rahul',\n",
       "       'Rahul', 'Rahul', 'Rahul', 'Rahul', 'Rahul', 'Sachin', 'Sachin',\n",
       "       'Rahul', 'Sachin', 'Rahul', 'Rahul', 'Sachin', 'Sachin', 'Sachin',\n",
       "       'Sachin', 'Rahul', 'Sachin', 'Sachin', 'Rahul', 'Rahul', 'Rahul',\n",
       "       'Rahul', 'Sachin', 'Rahul', 'Sachin', 'Rahul', 'Rahul', 'Rahul',\n",
       "       'Sachin', 'Rahul', 'Sachin', 'Rahul', 'Rahul', 'Rahul', 'Rahul',\n",
       "       'Sachin', 'Rahul', 'Sachin', 'Sachin', 'Rahul', 'Rahul', 'Sachin',\n",
       "       'Rahul', 'Sachin', 'Rahul', 'Rahul', 'Rahul', 'Rahul', 'Rahul',\n",
       "       'Rahul', 'Sachin', 'Sachin', 'Sachin', 'Rahul', 'Rahul', 'Rahul',\n",
       "       'Rahul', 'Sachin', 'Rahul', 'Sachin', 'Rahul', 'Rahul', 'Rahul',\n",
       "       'Rahul', 'Sachin', 'Sachin', 'Sachin', 'Rahul', 'Sachin', 'Rahul',\n",
       "       'Sachin', 'Rahul', 'Sachin', 'Rahul', 'Rahul', 'Sachin', 'Rahul',\n",
       "       'Sachin', 'Sachin', 'Rahul', 'Rahul', 'Sachin', 'Rahul', 'Rahul',\n",
       "       'Rahul', 'Rahul', 'Sachin', 'Rahul', 'Sachin', 'Sachin', 'Rahul',\n",
       "       'Rahul', 'Rahul', 'Rahul', 'Sachin', 'Sachin', 'Sachin', 'Rahul',\n",
       "       'Sachin', 'Sachin', 'Sachin', 'Sachin', 'Rahul', 'Sachin',\n",
       "       'Sachin', 'Rahul', 'Sachin', 'Sachin', 'Rahul', 'Sachin', 'Rahul',\n",
       "       'Rahul', 'Rahul', 'Sachin', 'Rahul', 'Sachin', 'Sachin', 'Sachin',\n",
       "       'Rahul', 'Rahul', 'Rahul', 'Sachin', 'Sachin', 'Rahul', 'Sachin',\n",
       "       'Rahul', 'Sachin', 'Sachin', 'Sachin', 'Sachin', 'Rahul', 'Rahul',\n",
       "       'Sachin', 'Rahul', 'Rahul'], dtype='<U6')"
      ]
     },
     "execution_count": 45,
     "metadata": {},
     "output_type": "execute_result"
    }
   ],
   "source": [
    "np.where(is_rahul_higher == 0, 'Rahul', 'Sachin')"
   ]
  },
  {
   "cell_type": "markdown",
   "metadata": {},
   "source": [
    "**8.How many more runs does Sachin score on average after having scored x runs**"
   ]
  },
  {
   "cell_type": "code",
   "execution_count": 46,
   "metadata": {},
   "outputs": [],
   "source": [
    " x_arr = np.arange(0, 101, 5)"
   ]
  },
  {
   "cell_type": "code",
   "execution_count": 47,
   "metadata": {},
   "outputs": [],
   "source": [
    "# sachin >= x_arr"
   ]
  },
  {
   "cell_type": "code",
   "execution_count": 48,
   "metadata": {},
   "outputs": [],
   "source": [
    "x_arr = x_arr.reshape(x_arr.shape[0], 1)"
   ]
  },
  {
   "cell_type": "code",
   "execution_count": 49,
   "metadata": {},
   "outputs": [],
   "source": [
    "indices = sachin >= x_arr"
   ]
  },
  {
   "cell_type": "code",
   "execution_count": 50,
   "metadata": {},
   "outputs": [
    {
     "data": {
      "text/plain": [
       "(21, 225)"
      ]
     },
     "execution_count": 50,
     "metadata": {},
     "output_type": "execute_result"
    }
   ],
   "source": [
    "indices.shape"
   ]
  },
  {
   "cell_type": "code",
   "execution_count": 51,
   "metadata": {},
   "outputs": [
    {
     "data": {
      "text/plain": [
       "array([100.,  11.,   8.,  71., 104.,  18.,   8.,  86.,  12.,  85.,  18.,\n",
       "         7.,  37.,  14.,  21.,  62., 138.,  38.,  46.,  65.,  39.,  48.,\n",
       "       141.,  62.,  12.,  41.,  11., 186.,  11.,  27.,  27.,  51.,  18.,\n",
       "        32., 146.,   5.,  45., 141.,  12.,  65.,  27.,   7.,  16.,  28.,\n",
       "         6., 123., 120.,   7.,  81.,  54., 122.,  14., 100.,  15.,  57.,\n",
       "        99.,  37.,  38.,  32.,  21.,  32.,  40.,   5.,   8.,   5.,  50.,\n",
       "        30.,  37.,  89.,  98.,  83.,  93.,  52., 152.,   8.,  93.,  45.,\n",
       "        26.,  16.,  47.,  89.,  53.,  16.,  81.,  14.,  78.,   6., 105.,\n",
       "       122.,   9.,   8.,  28.,  35.,  69.,  13.,  97.,  93.,  36.,  39.,\n",
       "        29.,  12.,  19.,  34., 100.,  44.,  82.,  79.,   6.,   9.,   8.,\n",
       "        23.,  93.,  35.,  63.,  74.,   8., 117.,  39.,  49.,  64.,  43.,\n",
       "        72.,   5.,  17.,  65.,  20., 141.,  28.,  44.,  27.,  60.,  68.,\n",
       "       139.,  31.,  44.,  47.,   6.,  17.,  35.,  88., 114.,   7., 127.,\n",
       "        45.,  33., 110., 146.,   7.,  25.,   9.,  11.,  17.,  14.,  45.,\n",
       "        94.,  28.,  62.,   9.,  67.,  10.,  99.,  55., 101.,  16., 140.,\n",
       "        23., 113.,  10.,  41.,  28.,  22.,  29.,  25., 102.,  27.,  40.])"
      ]
     },
     "execution_count": 51,
     "metadata": {},
     "output_type": "execute_result"
    }
   ],
   "source": [
    "sachin[indices[1, :]]"
   ]
  },
  {
   "cell_type": "code",
   "execution_count": 52,
   "metadata": {},
   "outputs": [
    {
     "name": "stdout",
     "output_type": "stream",
     "text": [
      "[0] 39.87555555555556\n",
      "[5] 45.61363636363637\n",
      "[10] 47.48026315789474\n",
      "[15] 47.45255474452555\n",
      "[20] 46.824\n",
      "[25] 44.10084033613445\n",
      "[30] 45.13461538461539\n",
      "[35] 43.24742268041237\n",
      "[40] 44.05882352941177\n",
      "[45] 43.41558441558442\n",
      "[50] 43.98529411764706\n",
      "[55] 42.317460317460316\n",
      "[60] 38.67213114754098\n",
      "[65] 37.654545454545456\n",
      "[70] 37.08163265306122\n",
      "[75] 34.347826086956516\n",
      "[80] 30.75\n",
      "[85] 28.650000000000006\n",
      "[90] 27.400000000000006\n",
      "[95] 26.433333333333337\n",
      "[100] 25.0\n"
     ]
    }
   ],
   "source": [
    "for i in range(x_arr.shape[0]):\n",
    "    print(x_arr[i], np.mean(sachin[indices[i, :]])- x_arr[i,0])"
   ]
  },
  {
   "cell_type": "markdown",
   "metadata": {},
   "source": [
    "**9.How many matches did Sachin take to score first 1000 runs, next 1000 runs,....**"
   ]
  },
  {
   "cell_type": "code",
   "execution_count": 53,
   "metadata": {},
   "outputs": [
    {
     "data": {
      "text/plain": [
       "array([100.,  11.,   8.,  71., 104.,  18.,   8.,  86.,  12.,  85.,  18.,\n",
       "         4.,   7.,  37.,  14.,   0.,   4.,   0.,  21.,   1.,  62.,   0.,\n",
       "       138.,  38.,   2.,  46.,  65.,   0.,  39.,  48., 141.,  62.,  12.,\n",
       "         1.,  41.,  11.,   3., 186.,  11.,  27.,  27.,  51.,  18.,  32.,\n",
       "       146.,   5.,  45., 141.,  12.,  65.,  27.,   7.,  16.,   2.,  28.,\n",
       "         6., 123., 120.,   7.,   3.,   0.,  81.,   2.,  54., 122.,   4.,\n",
       "        14.,   0., 100.,  15.,   0.,  57.,  99.,  37.,  38.,  32.,  21.,\n",
       "        32.,  40.,   0.,   5.,   8.,   5.,   0.,  50.,  30.,  37.,  89.,\n",
       "         4.,  98.,  83.,  93.,   0.,  52., 152.,   1.,   8.,  93.,  45.,\n",
       "        26.,   0.,   1.,   0.,  16.,  47.,  89.,   3.,   1.,  53.,  16.,\n",
       "         0.,  81.,  14.,  78.,   6., 105., 122.,   9.,   8.,  28.,  35.,\n",
       "        69.,  13.,  97.,  93.,   2.,  36.,  39.,   2.,  29.,  12.,  19.,\n",
       "        34.,   2., 100.,  44.,  82.,   0.,  79.,   6.,   9.,   8.,  23.,\n",
       "        93.,  35.,  63.,  74.,   8., 117.,  39.,  49.,  64.,  43.,  72.,\n",
       "         5.,  17.,   0.,  65.,  20., 141.,  28.,  44.,  27.,  60.,  68.,\n",
       "         3., 139.,  31.,   2.,  44.,  47.,   6.,  17.,  35.,  88., 114.,\n",
       "         7., 127.,   0.,  45.,  33., 110., 146.,   7.,  25.,   9.,   2.,\n",
       "        11.,  17.,  14.,   1.,  45.,  94.,  28.,   4.,  62.,   1.,   9.,\n",
       "        67.,  10.,  99.,  55.,   0.,   1., 101.,   2.,   1.,  16., 140.,\n",
       "        23., 113.,  10.,   1.,  41.,   1.,  28.,   2.,  22.,  29.,   1.,\n",
       "        25., 102.,   0.,  27.,  40.])"
      ]
     },
     "execution_count": 53,
     "metadata": {},
     "output_type": "execute_result"
    }
   ],
   "source": [
    "sachin"
   ]
  },
  {
   "cell_type": "code",
   "execution_count": 54,
   "metadata": {},
   "outputs": [],
   "source": [
    "sachin_cumscores = np.cumsum(sachin)"
   ]
  },
  {
   "cell_type": "code",
   "execution_count": 55,
   "metadata": {},
   "outputs": [
    {
     "data": {
      "text/plain": [
       "(array([29, 18, 26, 25, 26, 26, 23, 22, 30], dtype=int64),\n",
       " array([   0, 1000, 2000, 3000, 4000, 5000, 6000, 7000, 8000, 9000]))"
      ]
     },
     "execution_count": 55,
     "metadata": {},
     "output_type": "execute_result"
    }
   ],
   "source": [
    "np.histogram(sachin_cumscores, bins=np.arange(0, 10000, 1000))"
   ]
  },
  {
   "cell_type": "code",
   "execution_count": null,
   "metadata": {},
   "outputs": [],
   "source": []
  }
 ],
 "metadata": {
  "kernelspec": {
   "display_name": "Python 3",
   "language": "python",
   "name": "python3"
  },
  "language_info": {
   "codemirror_mode": {
    "name": "ipython",
    "version": 3
   },
   "file_extension": ".py",
   "mimetype": "text/x-python",
   "name": "python",
   "nbconvert_exporter": "python",
   "pygments_lexer": "ipython3",
   "version": "3.7.6"
  }
 },
 "nbformat": 4,
 "nbformat_minor": 2
}
